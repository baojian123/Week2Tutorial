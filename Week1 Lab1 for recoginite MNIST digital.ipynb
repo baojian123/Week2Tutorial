{
  "nbformat": 4,
  "nbformat_minor": 0,
  "metadata": {
    "colab": {
      "name": "Untitled0.ipynb",
      "version": "0.3.2",
      "provenance": [],
      "collapsed_sections": [],
      "include_colab_link": true
    },
    "kernelspec": {
      "name": "python3",
      "display_name": "Python 3"
    }
  },
  "cells": [
    {
      "cell_type": "markdown",
      "metadata": {
        "id": "view-in-github",
        "colab_type": "text"
      },
      "source": [
        "<a href=\"https://colab.research.google.com/github/baojian123/Week2Tutorial/blob/master/Week1%20Lab1%20for%20recoginite%20MNIST%20digital.ipynb\" target=\"_parent\"><img src=\"https://colab.research.google.com/assets/colab-badge.svg\" alt=\"Open In Colab\"/></a>"
      ]
    },
    {
      "cell_type": "code",
      "metadata": {
        "id": "rpB7eWm-2o5l",
        "colab_type": "code",
        "colab": {}
      },
      "source": [
        "from torchvision.datasets import mnist\n",
        "from torchvision.transforms import ToTensor\n",
        "from torch.utils.data import DataLoader\n",
        "import torch\n",
        "import torch.nn as nn"
      ],
      "execution_count": 0,
      "outputs": []
    },
    {
      "cell_type": "code",
      "metadata": {
        "id": "nF5b1Onb24_F",
        "colab_type": "code",
        "colab": {}
      },
      "source": [
        "mndata = mnist.MNIST(\"./\", download=True, train=True, transform=ToTensor())\n",
        "dloader = DataLoader(mndata, batch_size=4)\n"
      ],
      "execution_count": 0,
      "outputs": []
    },
    {
      "cell_type": "code",
      "metadata": {
        "id": "XvBbfoYo5a69",
        "colab_type": "code",
        "colab": {}
      },
      "source": [
        "for x, y in dloader:\n",
        "  break"
      ],
      "execution_count": 0,
      "outputs": []
    },
    {
      "cell_type": "code",
      "metadata": {
        "id": "z5tpk5oc5jzt",
        "colab_type": "code",
        "colab": {
          "base_uri": "https://localhost:8080/",
          "height": 34
        },
        "outputId": "3502eeb7-7795-4bcb-a109-296805787d15"
      },
      "source": [
        "y"
      ],
      "execution_count": 25,
      "outputs": [
        {
          "output_type": "execute_result",
          "data": {
            "text/plain": [
              "tensor([5, 0, 4, 1])"
            ]
          },
          "metadata": {
            "tags": []
          },
          "execution_count": 25
        }
      ]
    },
    {
      "cell_type": "code",
      "metadata": {
        "id": "SQ5t6DhnrLnp",
        "colab_type": "code",
        "colab": {}
      },
      "source": [
        ""
      ],
      "execution_count": 0,
      "outputs": []
    },
    {
      "cell_type": "code",
      "metadata": {
        "id": "cmylGs545eme",
        "colab_type": "code",
        "colab": {
          "base_uri": "https://localhost:8080/",
          "height": 34
        },
        "outputId": "dafce33e-37d7-4dbd-85c9-7281fd749b30"
      },
      "source": [
        "x.shape"
      ],
      "execution_count": 24,
      "outputs": [
        {
          "output_type": "execute_result",
          "data": {
            "text/plain": [
              "torch.Size([4, 1, 28, 28])"
            ]
          },
          "metadata": {
            "tags": []
          },
          "execution_count": 24
        }
      ]
    },
    {
      "cell_type": "code",
      "metadata": {
        "id": "SdzNgAK03tBt",
        "colab_type": "code",
        "colab": {}
      },
      "source": [
        "class MyModel(nn.Module):\n",
        "  def __init__(self, kernels):\n",
        "    super(MyModel, self).__init__()\n",
        "    self.conv1 = nn.Conv2d(in_channels=1, out_channels=kernels, kernel_size=3)\n",
        "    self.linear1 = nn.Linear(in_features=2704, out_features=10) \n",
        "    \n",
        "  def forward(self, x):\n",
        "    h = nn.functional.max_pool2d(self.conv1(x), 2)\n",
        "    h = self.linear1( h.view(h.shape[0], -1) )\n",
        "    return h"
      ],
      "execution_count": 0,
      "outputs": []
    },
    {
      "cell_type": "code",
      "metadata": {
        "id": "ffeIXgGu4lqy",
        "colab_type": "code",
        "colab": {}
      },
      "source": [
        "for possible_kernel in (16, 32, 48, 96):\n",
        "  mymod = MyModel(possible_kernel)\n",
        "  # train mymod\n",
        "  # train...\n",
        "  # init mymod\n",
        "  for param in possible_parameters:\n",
        "    #evaluate the current model\n",
        "    # if better than existing best,\n",
        "    #     keep the best parameter\n",
        "  # evaluate the mymod\n",
        "  # keep best performing mymod with some kernel number\n",
        "  "
      ],
      "execution_count": 0,
      "outputs": []
    },
    {
      "cell_type": "code",
      "metadata": {
        "id": "cjsgv6Gr5qac",
        "colab_type": "code",
        "colab": {
          "base_uri": "https://localhost:8080/",
          "height": 34
        },
        "outputId": "9ba00f1a-b71f-4def-e02c-86cfeb8e5020"
      },
      "source": [
        "mymod(x).shape"
      ],
      "execution_count": 38,
      "outputs": [
        {
          "output_type": "execute_result",
          "data": {
            "text/plain": [
              "torch.Size([4, 10])"
            ]
          },
          "metadata": {
            "tags": []
          },
          "execution_count": 38
        }
      ]
    },
    {
      "cell_type": "code",
      "metadata": {
        "id": "6SKlgP5w6nM9",
        "colab_type": "code",
        "colab": {
          "base_uri": "https://localhost:8080/",
          "height": 84
        },
        "outputId": "f9514047-cbfd-47cf-d013-89b1d73bbb16"
      },
      "source": [
        "for p in mymod.parameters():\n",
        "  print(p.name, p.shape)"
      ],
      "execution_count": 40,
      "outputs": [
        {
          "output_type": "stream",
          "text": [
            "None torch.Size([16, 1, 3, 3])\n",
            "None torch.Size([16])\n",
            "None torch.Size([10, 2704])\n",
            "None torch.Size([10])\n"
          ],
          "name": "stdout"
        }
      ]
    },
    {
      "cell_type": "code",
      "metadata": {
        "id": "Ooly1yh86Dmf",
        "colab_type": "code",
        "colab": {
          "base_uri": "https://localhost:8080/",
          "height": 34
        },
        "outputId": "554aee5f-912f-4daf-e009-59c651f30483"
      },
      "source": [
        "13*13*16"
      ],
      "execution_count": 35,
      "outputs": [
        {
          "output_type": "execute_result",
          "data": {
            "text/plain": [
              "2704"
            ]
          },
          "metadata": {
            "tags": []
          },
          "execution_count": 35
        }
      ]
    }
  ]
}